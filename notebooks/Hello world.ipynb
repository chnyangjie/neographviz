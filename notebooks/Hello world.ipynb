{
 "cells": [
  {
   "cell_type": "markdown",
   "metadata": {},
   "source": [
    "# Hello World\n",
    "This is the very basic usage of neographviz for visualisations of graphs in jupyter notebooks."
   ]
  },
  {
   "cell_type": "code",
   "execution_count": 1,
   "metadata": {},
   "outputs": [],
   "source": [
    "%load_ext autoreload\n",
    "%autoreload 2"
   ]
  },
  {
   "cell_type": "code",
   "execution_count": 2,
   "metadata": {},
   "outputs": [
    {
     "name": "stdout",
     "output_type": "stream",
     "text": [
      "Obtaining file:///C:/Users/rum/Documents/AML/neographviz_public\n",
      "Requirement already satisfied: py2neo in c:\\users\\rum\\appdata\\roaming\\python\\python37\\site-packages (from neographviz==0.3) (4.3.0)\n",
      "Requirement already satisfied: IPython in c:\\users\\rum\\appdata\\local\\continuum\\anaconda3\\lib\\site-packages (from neographviz==0.3) (7.12.0)\n",
      "Requirement already satisfied: jinja2 in c:\\users\\rum\\appdata\\local\\continuum\\anaconda3\\lib\\site-packages (from neographviz==0.3) (2.11.1)\n",
      "Requirement already satisfied: pyjokes in c:\\users\\rum\\appdata\\local\\continuum\\anaconda3\\lib\\site-packages (from neographviz==0.3) (0.6.0)\n",
      "Requirement already satisfied: certifi in c:\\users\\rum\\appdata\\local\\continuum\\anaconda3\\lib\\site-packages (from py2neo->neographviz==0.3) (2019.11.28)\n",
      "Requirement already satisfied: colorama in c:\\users\\rum\\appdata\\local\\continuum\\anaconda3\\lib\\site-packages (from py2neo->neographviz==0.3) (0.4.3)\n",
      "Requirement already satisfied: pygments~=2.3.1 in c:\\users\\rum\\appdata\\local\\continuum\\anaconda3\\lib\\site-packages (from py2neo->neographviz==0.3) (2.3.1)\n",
      "Requirement already satisfied: urllib3<1.25,>=1.23 in c:\\users\\rum\\appdata\\roaming\\python\\python37\\site-packages (from py2neo->neographviz==0.3) (1.24.1)\n",
      "Requirement already satisfied: pytz in c:\\users\\rum\\appdata\\local\\continuum\\anaconda3\\lib\\site-packages (from py2neo->neographviz==0.3) (2019.3)\n",
      "Requirement already satisfied: neobolt~=1.7.12 in c:\\users\\rum\\appdata\\roaming\\python\\python37\\site-packages (from py2neo->neographviz==0.3) (1.7.13)\n",
      "Requirement already satisfied: prompt-toolkit~=2.0.7 in c:\\users\\rum\\appdata\\local\\continuum\\anaconda3\\lib\\site-packages (from py2neo->neographviz==0.3) (2.0.10)\n",
      "Requirement already satisfied: neotime~=1.7.4 in c:\\users\\rum\\appdata\\roaming\\python\\python37\\site-packages (from py2neo->neographviz==0.3) (1.7.4)\n",
      "Requirement already satisfied: click==7.0 in c:\\users\\rum\\appdata\\roaming\\python\\python37\\site-packages (from py2neo->neographviz==0.3) (7.0)\n",
      "Requirement already satisfied: pickleshare in c:\\users\\rum\\appdata\\local\\continuum\\anaconda3\\lib\\site-packages (from IPython->neographviz==0.3) (0.7.5)\n",
      "Requirement already satisfied: traitlets>=4.2 in c:\\users\\rum\\appdata\\roaming\\python\\python37\\site-packages (from IPython->neographviz==0.3) (4.3.2)\n",
      "Requirement already satisfied: decorator in c:\\users\\rum\\appdata\\local\\continuum\\anaconda3\\lib\\site-packages (from IPython->neographviz==0.3) (4.4.1)\n",
      "Requirement already satisfied: jedi>=0.10 in c:\\users\\rum\\appdata\\local\\continuum\\anaconda3\\lib\\site-packages (from IPython->neographviz==0.3) (0.16.0)\n",
      "Requirement already satisfied: setuptools>=18.5 in c:\\users\\rum\\appdata\\local\\continuum\\anaconda3\\lib\\site-packages (from IPython->neographviz==0.3) (45.1.0.post20200127)\n",
      "Requirement already satisfied: backcall in c:\\users\\rum\\appdata\\roaming\\python\\python37\\site-packages (from IPython->neographviz==0.3) (0.1.0)\n",
      "Requirement already satisfied: MarkupSafe>=0.23 in c:\\users\\rum\\appdata\\local\\continuum\\anaconda3\\lib\\site-packages (from jinja2->neographviz==0.3) (1.1.1)\n",
      "Requirement already satisfied: wcwidth in c:\\users\\rum\\appdata\\roaming\\python\\python37\\site-packages (from prompt-toolkit~=2.0.7->py2neo->neographviz==0.3) (0.1.7)\n",
      "Requirement already satisfied: six>=1.9.0 in c:\\users\\rum\\appdata\\local\\continuum\\anaconda3\\lib\\site-packages (from prompt-toolkit~=2.0.7->py2neo->neographviz==0.3) (1.14.0)\n",
      "Requirement already satisfied: ipython-genutils in c:\\users\\rum\\appdata\\roaming\\python\\python37\\site-packages (from traitlets>=4.2->IPython->neographviz==0.3) (0.2.0)\n",
      "Requirement already satisfied: parso>=0.5.2 in c:\\users\\rum\\appdata\\local\\continuum\\anaconda3\\lib\\site-packages (from jedi>=0.10->IPython->neographviz==0.3) (0.6.0)\n",
      "Installing collected packages: neographviz\n",
      "  Attempting uninstall: neographviz\n",
      "    Found existing installation: neographviz 0.3\n",
      "    Uninstalling neographviz-0.3:\n",
      "      Successfully uninstalled neographviz-0.3\n",
      "  Running setup.py develop for neographviz\n",
      "Successfully installed neographviz\n"
     ]
    },
    {
     "name": "stderr",
     "output_type": "stream",
     "text": [
      "WARNING: You are using pip version 20.1.1; however, version 20.2.4 is available.\n",
      "You should consider upgrading via the 'c:\\users\\rum\\appdata\\local\\continuum\\anaconda3\\python.exe -m pip install --upgrade pip' command.\n"
     ]
    }
   ],
   "source": [
    "!cd .. && pip install -e ."
   ]
  },
  {
   "cell_type": "code",
   "execution_count": 20,
   "metadata": {},
   "outputs": [],
   "source": [
    "# Basic imports\n",
    "from neographviz import plot, Graph  # Obviously"
   ]
  },
  {
   "cell_type": "code",
   "execution_count": 7,
   "metadata": {},
   "outputs": [],
   "source": [
    "from secrets import connection # Basic path to your DB"
   ]
  },
  {
   "cell_type": "code",
   "execution_count": 21,
   "metadata": {},
   "outputs": [],
   "source": [
    "graph = Graph(uri=connection) # Crate the connection, as you would normally with py2neo (>=2020.0)"
   ]
  },
  {
   "cell_type": "markdown",
   "metadata": {},
   "source": [
    "Let's make a basic plot"
   ]
  },
  {
   "cell_type": "code",
   "execution_count": 23,
   "metadata": {},
   "outputs": [
    {
     "data": {
      "text/html": [
       "\n",
       "        <iframe\n",
       "            width=\"100%\"\n",
       "            height=\"400\"\n",
       "            src=\"figure/graph-9ab3af4a-6093-47cf-8aa8-9a747ab895ea.html\"\n",
       "            frameborder=\"0\"\n",
       "            allowfullscreen\n",
       "        ></iframe>\n",
       "        "
      ],
      "text/plain": [
       "<IPython.lib.display.IFrame at 0x218661c6828>"
      ]
     },
     "execution_count": 23,
     "metadata": {},
     "output_type": "execute_result"
    }
   ],
   "source": [
    "plot(graph)"
   ]
  },
  {
   "cell_type": "markdown",
   "metadata": {},
   "source": [
    "Let's make the plot bigger. Hit Shift+O to make the output full size."
   ]
  },
  {
   "cell_type": "code",
   "execution_count": 25,
   "metadata": {
    "scrolled": false
   },
   "outputs": [
    {
     "data": {
      "text/html": [
       "\n",
       "        <iframe\n",
       "            width=\"100%\"\n",
       "            height=\"900\"\n",
       "            src=\"figure/graph-f5be53a0-b84a-47d6-b2e8-31a253c1178d.html\"\n",
       "            frameborder=\"0\"\n",
       "            allowfullscreen\n",
       "        ></iframe>\n",
       "        "
      ],
      "text/plain": [
       "<IPython.lib.display.IFrame at 0x218661cd278>"
      ]
     },
     "execution_count": 25,
     "metadata": {},
     "output_type": "execute_result"
    }
   ],
   "source": [
    "plot(graph, height=900)"
   ]
  },
  {
   "cell_type": "markdown",
   "metadata": {},
   "source": [
    "Let's look at the docs and what we can do with this little function:"
   ]
  },
  {
   "cell_type": "code",
   "execution_count": 26,
   "metadata": {},
   "outputs": [
    {
     "data": {
      "text/html": [
       "\n",
       "        <iframe\n",
       "            width=\"100%\"\n",
       "            height=\"900\"\n",
       "            src=\"figure/graph-ae1baee5-df68-4999-892d-373ffe484e8c.html\"\n",
       "            frameborder=\"0\"\n",
       "            allowfullscreen\n",
       "        ></iframe>\n",
       "        "
      ],
      "text/plain": [
       "<IPython.lib.display.IFrame at 0x21866226cf8>"
      ]
     },
     "execution_count": 26,
     "metadata": {},
     "output_type": "execute_result"
    }
   ],
   "source": [
    "plot(graph,\"match p=()--()--() return p limit 25\", font_size=50, node_size=30, height=900)"
   ]
  },
  {
   "cell_type": "code",
   "execution_count": 31,
   "metadata": {},
   "outputs": [
    {
     "name": "stdout",
     "output_type": "stream",
     "text": [
      "Help on function plot in module neographviz.vis:\n",
      "\n",
      "plot(graph: py2neo.database.Graph, query: str = 'match p=()--()--() return p limit 25', **kwargs)\n",
      "    Plot a graph, using a query.\n",
      "    \n",
      "    Heavy lifting is done via py2neo `to_subgraph` and `neographviz.vis_network`\n",
      "    \n",
      "    Example:\n",
      "        >>> from neographviz import plot, Graph\n",
      "        >>> graph = Graph() # You need a graph at localhos, or pass the uri here.\n",
      "        >>> plot(graph)\n",
      "    \n",
      "    Args:\n",
      "        graph (py2neo.Graph): Graph object from py2neo\n",
      "        query (str, optional): Any valid cypher query, must return a path p, should use a limit. Defaults to \"match p=()--()--() return p limit 25\".\n",
      "    \n",
      "    Returns:\n",
      "        IFrame: IFrame to show in jupyter notebook or website.\n",
      "\n"
     ]
    }
   ],
   "source": [
    "help(plot)"
   ]
  },
  {
   "cell_type": "code",
   "execution_count": 32,
   "metadata": {},
   "outputs": [
    {
     "name": "stdout",
     "output_type": "stream",
     "text": [
      "Help on function vis_network in module neographviz.vis:\n",
      "\n",
      "vis_network(nodes, edges, physics='', height=400, node_size=25, font_size=14, filename='', config={}, template_file='vis.html')\n",
      "    Render a network with vis.js in an IFrame for use in a jupyter notebook or website. \n",
      "    \n",
      "    This function will render a template whihc uses vis.js to display the graph. \n",
      "    The options configured can be passed directly to the template, but as it is vis.js underneith,\n",
      "    any valid options for it can be passed as js in string form to jsoptions.\n",
      "    \n",
      "    Args:\n",
      "        nodes (List): List of nodes\n",
      "        edges (List): List of edges\n",
      "        physics (str, optional): Defintion of physics in vis.js. Defaults to basic barnesHut.\n",
      "        height (int, optional): Height of the plot in pixels. Defaults to 400.\n",
      "        node_size (int, optional): Defaults to 25.\n",
      "        font_size (int, optional): [description]. Defaults to 14.\n",
      "        filename (str, optional): Optional filenmae for storing the page. Defaults to a `''` and uses a uuid.\n",
      "        config (dict, optional): Custom kwargs to pass to template. Defaults to `{}`.\n",
      "        template_file (str, optional): Defaults to `vis.html` the provided template, provide your own.\n",
      "    \n",
      "    Returns:\n",
      "        IFrame: Iframe to show in jupyter notebook\n",
      "\n"
     ]
    }
   ],
   "source": [
    "from neographviz import vis_network\n",
    "help(vis_network)"
   ]
  },
  {
   "cell_type": "code",
   "execution_count": null,
   "metadata": {},
   "outputs": [],
   "source": []
  }
 ],
 "metadata": {
  "kernelspec": {
   "display_name": "Python 3",
   "language": "python",
   "name": "python3"
  }
 },
 "nbformat": 4,
 "nbformat_minor": 2
}
